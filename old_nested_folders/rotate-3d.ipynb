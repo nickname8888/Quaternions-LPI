{
  "nbformat": 4,
  "nbformat_minor": 0,
  "metadata": {
    "colab": {
      "name": "rotate-3d.ipynb",
      "provenance": [],
      "mount_file_id": "1sOzzfL_YPtyZrCubPedeyyRx8_PcHxQS",
      "authorship_tag": "ABX9TyMG+Wg9jiE85yD9LHKjjDf1",
      "include_colab_link": true
    },
    "kernelspec": {
      "name": "python3",
      "display_name": "Python 3"
    },
    "language_info": {
      "name": "python"
    }
  },
  "cells": [
    {
      "cell_type": "markdown",
      "metadata": {
        "id": "view-in-github",
        "colab_type": "text"
      },
      "source": [
        "<a href=\"https://colab.research.google.com/github/nickname8888/Quaternions-LPI/blob/main/rotate-3d.ipynb\" target=\"_parent\"><img src=\"https://colab.research.google.com/assets/colab-badge.svg\" alt=\"Open In Colab\"/></a>"
      ]
    },
    {
      "cell_type": "code",
      "execution_count": 38,
      "metadata": {
        "id": "v44hx3U7NLId"
      },
      "outputs": [],
      "source": [
        "import os\n",
        "import cv2\n",
        "import numpy as np\n",
        "from math import pi\n",
        "import matplotlib.pyplot as plt"
      ]
    },
    {
      "cell_type": "code",
      "source": [
        "os.chdir('/content/drive/MyDrive/datasets/models/rotate-3d')"
      ],
      "metadata": {
        "id": "dxEDjov0Oa75"
      },
      "execution_count": 2,
      "outputs": []
    },
    {
      "cell_type": "code",
      "source": [
        "img = cv2.imread('pic11.jpg')"
      ],
      "metadata": {
        "id": "X5j0SRZVPXFA"
      },
      "execution_count": 3,
      "outputs": []
    },
    {
      "cell_type": "code",
      "source": [
        "# img = cv2.resize(img, shape)\n",
        "h = img.shape[0]\n",
        "w = img.shape[1]"
      ],
      "metadata": {
        "id": "juR6xKr-Pm5r"
      },
      "execution_count": 4,
      "outputs": []
    },
    {
      "cell_type": "code",
      "source": [
        "theta = 0\n",
        "phi = 60\n",
        "gamma = 0\n",
        "dx = -5\n",
        "dy = 0\n",
        "dz = 0\n",
        "phi = phi * pi / 180.0"
      ],
      "metadata": {
        "id": "l9-73NhJPtjJ"
      },
      "execution_count": 31,
      "outputs": []
    },
    {
      "cell_type": "code",
      "source": [
        "#getting focal length on z axis\n",
        "d = np.sqrt(h**2 + w**2)\n",
        "f = d / (2 * np.sin(gamma) if np.sin(gamma) != 0 else 1)\n",
        "dz = f"
      ],
      "metadata": {
        "id": "sBM--AhjyQIv"
      },
      "execution_count": 37,
      "outputs": []
    },
    {
      "cell_type": "code",
      "source": [
        "#getting projection matrix\n",
        "\n",
        "# Projection 2D -> 3D matrix\n",
        "A1 = np.array([\n",
        "                [1, 0, -w/2],\n",
        "                [0, 1, -h/2],\n",
        "                [0, 0, 1],\n",
        "                [0, 0, 1]\n",
        "              ])\n",
        "\n",
        "# Rotation matrices around the X, Y, and Z axis\n",
        "RX = np.array([ [1, 0, 0, 0],\n",
        "                [0, np.cos(theta), -np.sin(theta), 0],\n",
        "                [0, np.sin(theta), np.cos(theta), 0],\n",
        "                [0, 0, 0, 1]\n",
        "               ])\n",
        "\n",
        "RY = np.array([ [np.cos(phi), 0, -np.sin(phi), 0],\n",
        "                [0, 1, 0, 0],\n",
        "                [np.sin(phi), 0, np.cos(phi), 0],\n",
        "                [0, 0, 0, 1]\n",
        "               ])\n",
        "\n",
        "RZ = np.array([ [np.cos(gamma), -np.sin(gamma), 0, 0],\n",
        "                [np.sin(gamma), np.cos(gamma), 0, 0],\n",
        "                [0, 0, 1, 0],\n",
        "                [0, 0, 0, 1]\n",
        "               ])\n",
        "\n",
        "# Composed rotation matrix with (RX, RY, RZ)\n",
        "R = np.dot(np.dot(RX, RY), RZ)\n",
        "\n",
        "# Translation matrix\n",
        "T = np.array([  [1, 0, 0, dx],\n",
        "                [0, 1, 0, dy],\n",
        "                [0, 0, 1, dz],\n",
        "                [0, 0, 0, 1]])\n",
        "\n",
        "# Projection 3D -> 2D matrix\n",
        "A2 = np.array([ [f, 0, w/2, 0],\n",
        "                [0, f, h/2, 0],\n",
        "                [0, 0, 1, 0]])\n",
        "\n",
        "# Final transformation matrix\n",
        "matrix = np.dot(A2, np.dot(T, np.dot(R, A1)))\n",
        "\n",
        "rotated_img = cv2.warpPerspective(img, matrix, (w, h))"
      ],
      "metadata": {
        "id": "CJERnnlJ1mei"
      },
      "execution_count": 33,
      "outputs": []
    },
    {
      "cell_type": "code",
      "source": [
        "rotated_img = cv2.flip(rotated_img, 1)"
      ],
      "metadata": {
        "id": "OXAbgrOSDPCR"
      },
      "execution_count": 34,
      "outputs": []
    },
    {
      "cell_type": "code",
      "source": [
        "cv2.imwrite('pic11rot-60.jpg', rotated_img)"
      ],
      "metadata": {
        "colab": {
          "base_uri": "https://localhost:8080/"
        },
        "id": "-JdMa9Tr3r8z",
        "outputId": "4fbf6ae9-baa0-4867-d1c7-4f2a5a14bf87"
      },
      "execution_count": 35,
      "outputs": [
        {
          "output_type": "execute_result",
          "data": {
            "text/plain": [
              "True"
            ]
          },
          "metadata": {},
          "execution_count": 35
        }
      ]
    },
    {
      "cell_type": "code",
      "source": [
        "plt.imshow(np.squeeze(rotated_img))"
      ],
      "metadata": {
        "id": "_qNKE9HT4bEf",
        "colab": {
          "base_uri": "https://localhost:8080/",
          "height": 286
        },
        "outputId": "df0279ef-99c7-44d7-fe70-0b6e5eb58330"
      },
      "execution_count": 39,
      "outputs": [
        {
          "output_type": "execute_result",
          "data": {
            "text/plain": [
              "<matplotlib.image.AxesImage at 0x7fa56224e950>"
            ]
          },
          "metadata": {},
          "execution_count": 39
        },
        {
          "output_type": "display_data",
          "data": {
            "image/png": "[encoded data removed]",
            "text/plain": [
              "<Figure size 432x288 with 1 Axes>"
            ]
          },
          "metadata": {
            "needs_background": "light"
          }
        }
      ]
    },
    {
      "cell_type": "code",
      "source": [
        ""
      ],
      "metadata": {
        "id": "CqfV0XelFsZt"
      },
      "execution_count": null,
      "outputs": []
    }
  ]
}