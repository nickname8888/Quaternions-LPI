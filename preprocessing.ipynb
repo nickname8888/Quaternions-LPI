{
 "cells": [
  {
   "cell_type": "code",
   "execution_count": 3,
   "metadata": {},
   "outputs": [
    {
     "name": "stderr",
     "output_type": "stream",
     "text": [
      "C:\\Users\\HP\\AppData\\Local\\Programs\\Python\\Python38\\lib\\site-packages\\numpy\\_distributor_init.py:30: UserWarning: loaded more than 1 DLL from .libs:\n",
      "C:\\Users\\HP\\AppData\\Local\\Programs\\Python\\Python38\\lib\\site-packages\\numpy\\.libs\\libopenblas.NOIJJG62EMASZI6NYURL6JBKM4EVBGM7.gfortran-win_amd64.dll\n",
      "C:\\Users\\HP\\AppData\\Local\\Programs\\Python\\Python38\\lib\\site-packages\\numpy\\.libs\\libopenblas.WCDJNK7YVMPZQ2ME2ZZHJJRJ3JIKNDB7.gfortran-win_amd64.dll\n",
      "  warnings.warn(\"loaded more than 1 DLL from .libs:\"\n"
     ]
    }
   ],
   "source": [
    "import os\n",
    "import matplotlib.pyplot as plt\n",
    "from PIL import Image\n",
    "import cv2"
   ]
  },
  {
   "cell_type": "code",
   "execution_count": 6,
   "metadata": {},
   "outputs": [
    {
     "ename": "ValueError",
     "evalue": "could not convert string to float: '0.125\\n0'",
     "output_type": "error",
     "traceback": [
      "\u001b[1;31m---------------------------------------------------------------------------\u001b[0m",
      "\u001b[1;31mValueError\u001b[0m                                Traceback (most recent call last)",
      "\u001b[1;32m<ipython-input-6-181a7f80b44a>\u001b[0m in \u001b[0;36m<module>\u001b[1;34m\u001b[0m\n\u001b[0;32m     19\u001b[0m     \u001b[0mx1\u001b[0m\u001b[1;33m=\u001b[0m \u001b[0mw_full\u001b[0m\u001b[1;33m*\u001b[0m\u001b[1;33m(\u001b[0m \u001b[1;33m(\u001b[0m\u001b[0mfloat\u001b[0m\u001b[1;33m(\u001b[0m\u001b[0moutput\u001b[0m\u001b[1;33m[\u001b[0m\u001b[1;36m1\u001b[0m\u001b[1;33m]\u001b[0m\u001b[1;33m)\u001b[0m\u001b[1;33m)\u001b[0m \u001b[1;33m-\u001b[0m \u001b[1;33m(\u001b[0m\u001b[0mfloat\u001b[0m\u001b[1;33m(\u001b[0m\u001b[0moutput\u001b[0m\u001b[1;33m[\u001b[0m\u001b[1;36m3\u001b[0m\u001b[1;33m]\u001b[0m\u001b[1;33m)\u001b[0m\u001b[1;33m)\u001b[0m\u001b[1;33m/\u001b[0m\u001b[1;36m2\u001b[0m \u001b[1;33m)\u001b[0m\u001b[1;33m\u001b[0m\u001b[1;33m\u001b[0m\u001b[0m\n\u001b[0;32m     20\u001b[0m     \u001b[0mx2\u001b[0m\u001b[1;33m=\u001b[0m \u001b[0mw_full\u001b[0m\u001b[1;33m*\u001b[0m\u001b[1;33m(\u001b[0m \u001b[1;33m(\u001b[0m\u001b[0mfloat\u001b[0m\u001b[1;33m(\u001b[0m\u001b[0moutput\u001b[0m\u001b[1;33m[\u001b[0m\u001b[1;36m1\u001b[0m\u001b[1;33m]\u001b[0m\u001b[1;33m)\u001b[0m\u001b[1;33m)\u001b[0m \u001b[1;33m+\u001b[0m \u001b[1;33m(\u001b[0m\u001b[0mfloat\u001b[0m\u001b[1;33m(\u001b[0m\u001b[0moutput\u001b[0m\u001b[1;33m[\u001b[0m\u001b[1;36m3\u001b[0m\u001b[1;33m]\u001b[0m\u001b[1;33m)\u001b[0m\u001b[1;33m)\u001b[0m\u001b[1;33m/\u001b[0m\u001b[1;36m2\u001b[0m \u001b[1;33m)\u001b[0m\u001b[1;33m\u001b[0m\u001b[1;33m\u001b[0m\u001b[0m\n\u001b[1;32m---> 21\u001b[1;33m     \u001b[0my1\u001b[0m\u001b[1;33m=\u001b[0m \u001b[0mh_full\u001b[0m\u001b[1;33m*\u001b[0m\u001b[1;33m(\u001b[0m \u001b[1;33m(\u001b[0m\u001b[0mfloat\u001b[0m\u001b[1;33m(\u001b[0m\u001b[0moutput\u001b[0m\u001b[1;33m[\u001b[0m\u001b[1;36m2\u001b[0m\u001b[1;33m]\u001b[0m\u001b[1;33m)\u001b[0m\u001b[1;33m)\u001b[0m \u001b[1;33m-\u001b[0m \u001b[1;33m(\u001b[0m\u001b[0mfloat\u001b[0m\u001b[1;33m(\u001b[0m\u001b[0moutput\u001b[0m\u001b[1;33m[\u001b[0m\u001b[1;36m4\u001b[0m\u001b[1;33m]\u001b[0m\u001b[1;33m)\u001b[0m\u001b[1;33m)\u001b[0m\u001b[1;33m/\u001b[0m\u001b[1;36m2\u001b[0m \u001b[1;33m)\u001b[0m\u001b[1;33m\u001b[0m\u001b[1;33m\u001b[0m\u001b[0m\n\u001b[0m\u001b[0;32m     22\u001b[0m     \u001b[0my2\u001b[0m\u001b[1;33m=\u001b[0m \u001b[0mh_full\u001b[0m\u001b[1;33m*\u001b[0m\u001b[1;33m(\u001b[0m \u001b[1;33m(\u001b[0m\u001b[0mfloat\u001b[0m\u001b[1;33m(\u001b[0m\u001b[0moutput\u001b[0m\u001b[1;33m[\u001b[0m\u001b[1;36m2\u001b[0m\u001b[1;33m]\u001b[0m\u001b[1;33m)\u001b[0m\u001b[1;33m)\u001b[0m \u001b[1;33m+\u001b[0m \u001b[1;33m(\u001b[0m\u001b[0mfloat\u001b[0m\u001b[1;33m(\u001b[0m\u001b[0moutput\u001b[0m\u001b[1;33m[\u001b[0m\u001b[1;36m4\u001b[0m\u001b[1;33m]\u001b[0m\u001b[1;33m)\u001b[0m\u001b[1;33m)\u001b[0m\u001b[1;33m/\u001b[0m\u001b[1;36m2\u001b[0m \u001b[1;33m)\u001b[0m\u001b[1;33m\u001b[0m\u001b[1;33m\u001b[0m\u001b[0m\n\u001b[0;32m     23\u001b[0m     \u001b[0mx1\u001b[0m\u001b[1;33m=\u001b[0m\u001b[0mint\u001b[0m\u001b[1;33m(\u001b[0m\u001b[0mx1\u001b[0m\u001b[1;33m)\u001b[0m\u001b[1;33m\u001b[0m\u001b[1;33m\u001b[0m\u001b[0m\n",
      "\u001b[1;31mValueError\u001b[0m: could not convert string to float: '0.125\\n0'"
     ]
    }
   ],
   "source": [
    "path_label = 'D:/Datasets/LPI/v3/valid/labels/'\n",
    "path_image = 'D:/Datasets/LPI/v3/valid/images/'\n",
    "path_output_folder = 'D:/Datasets/LPI/v3/character-images/'\n",
    "list_of_files = os.listdir(path_label)\n",
    "list_of_images = os.listdir(path_image)\n",
    "for i in range(len(list_of_files)):\n",
    "    file1 = open(path_label+list_of_files[i])\n",
    "    output = file1.read().split(' ') #xywh\n",
    "    if len(output) <4:\n",
    "        continue\n",
    "    # print(output)\n",
    "    # for i in list_of_images:\n",
    "    img = plt.imread(path_image+list_of_images[i])\n",
    "    # ROI = image[y1:y2, x1:x2]\n",
    "    # print(img.shape)\n",
    "    h_full = img.shape[0]\n",
    "    w_full = img.shape[1]\n",
    "    # print(type(float(output[1])))\n",
    "    x1= w_full*( (float(output[1])) - (float(output[3]))/2 )\n",
    "    x2= w_full*( (float(output[1])) + (float(output[3]))/2 )\n",
    "    y1= h_full*( (float(output[2])) - (float(output[4]))/2 )\n",
    "    y2= h_full*( (float(output[2])) + (float(output[4]))/2 )\n",
    "    x1=int(x1)\n",
    "    x2=int(x2)\n",
    "    y1=int(y1)\n",
    "    y2=int(y2)\n",
    "    img = img[y1:y2, x1:x2]\n",
    "    # plt.imshow(img)\n",
    "    # plt.imsave(path_output_folder+list_of_images[i], img)\n",
    "    # break"
   ]
  },
  {
   "cell_type": "code",
   "execution_count": 19,
   "metadata": {},
   "outputs": [],
   "source": [
    "path_label = 'D:/Datasets/LPI/v3/train/labels/'\n",
    "path_image = 'D:/Datasets/LPI/v3/train/images/'\n",
    "path_output_folder = 'D:/Datasets/LPI/v3/character-images/'\n",
    "list_of_files = os.listdir(path_label)\n",
    "list_of_images = os.listdir(path_image)\n",
    "for i in range(len(list_of_files)):\n",
    "    file1 = open(path_label+list_of_files[i])\n",
    "    output = file1.readlines() #xywh\n",
    "    for j in range(len(output)):\n",
    "        img = plt.imread(path_image+list_of_images[i])\n",
    "        h_full = img.shape[0]\n",
    "        w_full = img.shape[1]\n",
    "        output[j] = output[j].split(' ')\n",
    "        output[j] = [float(k) for k in output[j]]\n",
    "        if len(output[j]) <4:\n",
    "            continue\n",
    "        # print(output[j])\n",
    "        # ROI = image[y1:y2, x1:x2]\n",
    "        x1= w_full*( output[j][1] - output[j][3]/2 )\n",
    "        x2= w_full*( output[j][1] + output[j][3]/2 )\n",
    "        y1= h_full*( output[j][2] - output[j][4]/2 )\n",
    "        y2= h_full*( output[j][2] + output[j][4]/2 )\n",
    "        x1=int(x1)\n",
    "        x2=int(x2)\n",
    "        y1=int(y1)\n",
    "        y2=int(y2)\n",
    "        img = img[y1:y2, x1:x2]\n",
    "        # plt.imshow(img)\n",
    "        ii = list_of_images[i][:-4] + '-' + str(j) + '.jpg'\n",
    "        # print(ii)\n",
    "        plt.imsave(path_output_folder+ii, img)\n",
    "    # break"
   ]
  },
  {
   "cell_type": "code",
   "execution_count": 48,
   "metadata": {},
   "outputs": [
    {
     "ename": "FileNotFoundError",
     "evalue": "[WinError 2] The system cannot find the file specified: 'D:/Datasets/Indian Number Plate/in/in/Audi-A4-528794d.jpg_0359_0305_0250_0204_0066.PNG' -> 'D:/Datasets/eng-plates-yolo/Audi-A4-528794d.jpg_0359_0305_0250_0204_0066.PNG'",
     "output_type": "error",
     "traceback": [
      "\u001b[1;31m---------------------------------------------------------------------------\u001b[0m",
      "\u001b[1;31mFileNotFoundError\u001b[0m                         Traceback (most recent call last)",
      "\u001b[1;32m<ipython-input-48-839b4a99e5f4>\u001b[0m in \u001b[0;36m<module>\u001b[1;34m\u001b[0m\n\u001b[0;32m      5\u001b[0m \u001b[1;32mfor\u001b[0m \u001b[0mi\u001b[0m \u001b[1;32min\u001b[0m \u001b[0mos\u001b[0m\u001b[1;33m.\u001b[0m\u001b[0mlistdir\u001b[0m\u001b[1;33m(\u001b[0m\u001b[0mpath_labels\u001b[0m\u001b[1;33m)\u001b[0m\u001b[1;33m:\u001b[0m\u001b[1;33m\u001b[0m\u001b[1;33m\u001b[0m\u001b[0m\n\u001b[0;32m      6\u001b[0m     \u001b[0mii\u001b[0m \u001b[1;33m=\u001b[0m \u001b[0mi\u001b[0m\u001b[1;33m[\u001b[0m\u001b[1;33m:\u001b[0m\u001b[1;33m-\u001b[0m\u001b[1;36m5\u001b[0m\u001b[1;33m]\u001b[0m\u001b[1;33m\u001b[0m\u001b[1;33m\u001b[0m\u001b[0m\n\u001b[1;32m----> 7\u001b[1;33m     \u001b[0mos\u001b[0m\u001b[1;33m.\u001b[0m\u001b[0mreplace\u001b[0m\u001b[1;33m(\u001b[0m\u001b[0mpath_input\u001b[0m\u001b[1;33m+\u001b[0m\u001b[0mii\u001b[0m\u001b[1;33m+\u001b[0m\u001b[1;34m'.PNG'\u001b[0m\u001b[1;33m,\u001b[0m \u001b[0mpath_output\u001b[0m\u001b[1;33m+\u001b[0m\u001b[0mii\u001b[0m\u001b[1;33m+\u001b[0m\u001b[1;34m'.PNG'\u001b[0m\u001b[1;33m)\u001b[0m\u001b[1;33m\u001b[0m\u001b[1;33m\u001b[0m\u001b[0m\n\u001b[0m",
      "\u001b[1;31mFileNotFoundError\u001b[0m: [WinError 2] The system cannot find the file specified: 'D:/Datasets/Indian Number Plate/in/in/Audi-A4-528794d.jpg_0359_0305_0250_0204_0066.PNG' -> 'D:/Datasets/eng-plates-yolo/Audi-A4-528794d.jpg_0359_0305_0250_0204_0066.PNG'"
     ]
    }
   ],
   "source": [
    "path_input = 'D:/Datasets/Indian Number Plate/in/in/'\n",
    "path_output = 'D:/Datasets/eng-plates-yolo/'\n",
    "path_labels = 'D:/Datasets/eng-plates-yolo-character/'\n",
    "\n",
    "for i in os.listdir(path_labels):\n",
    "    ii = i[:-5]\n",
    "    # os.replace(path_input+ii+'.PNG', path_output+ii+'.PNG')"
   ]
  },
  {
   "cell_type": "code",
   "execution_count": null,
   "metadata": {},
   "outputs": [],
   "source": []
  },
  {
   "cell_type": "code",
   "execution_count": 9,
   "metadata": {},
   "outputs": [
    {
     "name": "stdout",
     "output_type": "stream",
     "text": [
      "[0.0, 0.719388, 0.402778, 0.0714286, 0.361111, 0.71979]\n",
      "[0.0, 0.255102, 0.569444, 0.0816327, 0.416667, 0.745266]\n",
      "[0.0, 0.581633, 0.458333, 0.0816327, 0.416667, 0.760545]\n",
      "[0.0, 0.5, 0.486111, 0.0816327, 0.472222, 0.802691]\n",
      "[0.0, 0.647959, 0.430556, 0.0714286, 0.416667, 0.804225]\n",
      "[0.0, 0.331633, 0.527778, 0.0714286, 0.5, 0.825352]\n",
      "[0.0, 0.80102, 0.388889, 0.0714286, 0.388889, 0.851697]\n",
      "[0.0, 0.862245, 0.375, 0.0714286, 0.416667, 0.864586]\n",
      "[0.0, 0.413265, 0.513889, 0.0918367, 0.472222, 0.864872]\n",
      "[0.0, 0.163265, 0.583333, 0.102041, 0.5, 0.880641]\n",
      "\n",
      "[0.583333, 0.569444, 0.527778, 0.513889, 0.486111, 0.458333, 0.430556, 0.402778, 0.388889, 0.375]\n",
      "-0.01388900000000004\n",
      "-0.04166599999999998\n",
      "-0.01388899999999993\n",
      "-0.027778000000000025\n",
      "-0.027778000000000025\n",
      "-0.027776999999999996\n",
      "-0.02777799999999997\n",
      "-0.01388900000000004\n",
      "-0.013888999999999985\n"
     ]
    }
   ],
   "source": [
    "path_label = 'D:/Datasets/LPI/pipeline/DEEPBLUE_FINAL/yolov5/runs/detect/exp124/labels/t5crop.txt'\n",
    "path_label = 'D:/Datasets/LPI/pipeline/DEEPBLUE_FINAL/yolov5/runs/detect/exp125/labels/t6crop.txt'\n",
    "path_label = 'D:/Datasets/LPI/pipeline/DEEPBLUE_FINAL/yolov5/runs/detect/exp119/labels/t2crop.txt'\n",
    "file1 = open(path_label)\n",
    "output = file1.readlines() #xywh\n",
    "y = []\n",
    "for i in range(len(output)):\n",
    "    output[i] = output[i].split(' ')\n",
    "    output[i] = [float(i) for i in output[i]] #how the hell did this line work\n",
    "    print(output[i])\n",
    "output.sort(key = lambda j: j[1])\n",
    "for i in range(len(output)):\n",
    "    y.append(output[i][2])\n",
    "# print(y)\n",
    "# y_max = max(y)\n",
    "# y_min = min(y)\n",
    "# print(y_max)\n",
    "# print(y_min)\n",
    "# print(y_max - y_min)\n",
    "print()\n",
    "print(y)\n",
    "for i in range(len(y)-1):\n",
    "    print(y[i+1] - y[i])\n",
    "\n",
    "# print()\n",
    "# x=[]\n",
    "# output.sort(key = lambda j: j[2])\n",
    "# for i in range(len(output)):\n",
    "#     print(output[i])\n",
    "#     x.append(output[i][1])\n",
    "# print(x)\n",
    "# for i in range(len(x)-1):\n",
    "#     print(x[i+1] - y[i])"
   ]
  },
  {
   "cell_type": "code",
   "execution_count": null,
   "metadata": {},
   "outputs": [],
   "source": []
  },
  {
   "cell_type": "code",
   "execution_count": 24,
   "metadata": {},
   "outputs": [
    {
     "name": "stdout",
     "output_type": "stream",
     "text": [
      "[0.0, 0.61583, 0.548969, 0.671814, 0.257732, 0.873785]\n",
      "[0.0, 0.62583, 0.558969, 0.671814, 0.257732, 0.873785]\n",
      "[0.0, 0.64583, 0.5789690000000001, 0.671814, 0.257732, 0.873785]\n",
      "[0.0, 0.67583, 0.6089690000000001, 0.671814, 0.257732, 0.873785]\n",
      "[0.0, 0.7158300000000001, 0.6489690000000001, 0.671814, 0.257732, 0.873785]\n",
      "[0.0, 0.7658300000000001, 0.6989690000000002, 0.671814, 0.257732, 0.873785]\n",
      "[0.0, 0.8258300000000001, 0.7589690000000002, 0.671814, 0.257732, 0.873785]\n"
     ]
    }
   ],
   "source": [
    "path_image = 'D:/Datasets/LPI/pipeline/DEEPBLUE_FINAL/testing/'\n",
    "output = '0 0.61583 0.548969 0.335907 0.128866 0.873785'\n",
    "# output = '0 0.61583 0.548969 0.55907 0.128866 0.873785'\n",
    "output = output.split(' ') #xywh\n",
    "output = [float(i) for i in output]\n",
    "# ROI = image[y1:y2, x1:x2]\n",
    "# print(img.shape)\n",
    "output[3] = output[3]*2\n",
    "output[4] = output[4]*2\n",
    "for i in range(7):\n",
    "    img = plt.imread(path_image+'t2.JPG')\n",
    "    h_full = img.shape[0]\n",
    "    w_full = img.shape[1]\n",
    "    output[1] = output[1]+i/100\n",
    "    output[2] = output[2]+i/100\n",
    "    print(output)\n",
    "    # print(type(float(output[1])))\n",
    "    x1= w_full*( (float(output[1])) - (float(output[3]))/2 )\n",
    "    x2= w_full*( (float(output[1])) + (float(output[3]))/2 )\n",
    "    y1= h_full*( (float(output[2])) - (float(output[4]))/2 )\n",
    "    y2= h_full*( (float(output[2])) + (float(output[4]))/2 )\n",
    "    x1=int(x1)\n",
    "    x2=int(x2)\n",
    "    y1=int(y1)\n",
    "    y2=int(y2)\n",
    "    img = img[y1:y2, x1:x2]\n",
    "    # plt.imshow(img)\n",
    "    plt.imsave(path_image+'plate-crops/'+str(i)+'.jpg', img)\n",
    "    # break"
   ]
  },
  {
   "cell_type": "code",
   "execution_count": null,
   "metadata": {},
   "outputs": [],
   "source": []
  },
  {
   "cell_type": "code",
   "execution_count": 4,
   "metadata": {},
   "outputs": [
    {
     "data": {
      "text/plain": [
       "['imcrop.jpg',\n",
       " 'IMG_1384.MOV',\n",
       " 'IMG_1386.MOV',\n",
       " 'plate-crops',\n",
       " 't1.jpg',\n",
       " 't1c1-cv2.jpg',\n",
       " 't1c1.jpg',\n",
       " 't1c2-cv2.jpg',\n",
       " 't1c2-cv3.jpg',\n",
       " 't1c2.jpg',\n",
       " 't1c3.jpg',\n",
       " 't1crop.jpg',\n",
       " 't1upscale.jpg',\n",
       " 't2.jpg',\n",
       " 't2crop.jpg',\n",
       " 't2upscale-cv2.jpg',\n",
       " 't2upscale.jpg',\n",
       " 't3.jpg',\n",
       " 't4.jpg',\n",
       " 't4crop.jpg',\n",
       " 't5crop.PNG',\n",
       " 't6crop.PNG',\n",
       " 't7crop.png']"
      ]
     },
     "execution_count": 4,
     "metadata": {},
     "output_type": "execute_result"
    }
   ],
   "source": [
    "path = 'D:/Datasets/LPI/pipeline/DEEPBLUE_FINAL/yolov5/runs/detect/exp119/crops/t2/'\n",
    "path = 'D:/Datasets/LPI/pipeline/DEEPBLUE_FINAL/testing/'\n",
    "os.listdir(path)"
   ]
  },
  {
   "cell_type": "code",
   "execution_count": 23,
   "metadata": {},
   "outputs": [],
   "source": [
    "img = Image.open(path+'t2crop.jpg')\n",
    "img = img.resize((512,512))\n",
    "img.save(path+'t2upscale-pil.jpg')"
   ]
  },
  {
   "cell_type": "code",
   "execution_count": 17,
   "metadata": {},
   "outputs": [
    {
     "data": {
      "text/plain": [
       "True"
      ]
     },
     "execution_count": 17,
     "metadata": {},
     "output_type": "execute_result"
    }
   ],
   "source": [
    "img = cv2.imread(path+'t1c1.jpg')\n",
    "img = cv2.resize(img, (128, 128), interpolation = cv2.INTER_CUBIC)\n",
    "cv2.imwrite(path+'t1c1-cv2.jpg', img)"
   ]
  },
  {
   "cell_type": "code",
   "execution_count": 7,
   "metadata": {},
   "outputs": [
    {
     "data": {
      "text/plain": [
       "True"
      ]
     },
     "execution_count": 7,
     "metadata": {},
     "output_type": "execute_result"
    }
   ],
   "source": [
    "img = cv2.imread(path+'t6crop.png')\n",
    "iheight = img.shape[0]\n",
    "iwidth = img.shape[1]\n",
    "# immm_not_cv = immm.copy()\n",
    "if iheight > iwidth:\n",
    "    img = cv2.copyMakeBorder(img, 0, 0, int((iheight-iwidth)/2), int((iheight-iwidth)/2), cv2.BORDER_CONSTANT, value=(255, 255, 255))\n",
    "if iheight < iwidth:\n",
    "    img = cv2.copyMakeBorder(img, int((iwidth-iheight)/2), int((iwidth-iheight)/2), 0, 0, cv2.BORDER_CONSTANT, value=(255, 255, 255))\n",
    "img = cv2.resize(img, (256, 256), interpolation = cv2.INTER_CUBIC)\n",
    "cv2.imwrite(path+'t6crop.jpg', img)"
   ]
  },
  {
   "cell_type": "code",
   "execution_count": 28,
   "metadata": {},
   "outputs": [],
   "source": [
    "import pandas as pd\n",
    "import csv"
   ]
  },
  {
   "cell_type": "code",
   "execution_count": 67,
   "metadata": {},
   "outputs": [],
   "source": [
    "df = pd.read_csv('D:/Datasets/LPI/v3/labels.csv')"
   ]
  },
  {
   "cell_type": "code",
   "execution_count": 66,
   "metadata": {},
   "outputs": [],
   "source": [
    "fields = ['image', 'character']\n",
    "with open('D:/Datasets/LPI/v3/labels.csv', 'w') as f:\n",
    "      \n",
    "    # using csv.writer method from CSV package\n",
    "    write = csv.writer(f)\n",
    "    write.writerow(fields)\n",
    "    row = []\n",
    "    for i in os.listdir('D:/Datasets/LPI/v3/character-images - copy/'):\n",
    "        # r = i\n",
    "        write.writerow([i])"
   ]
  },
  {
   "cell_type": "code",
   "execution_count": 69,
   "metadata": {},
   "outputs": [
    {
     "data": {
      "text/plain": [
       "['0',\n",
       " '1',\n",
       " '2',\n",
       " '3',\n",
       " '4',\n",
       " '5',\n",
       " '6',\n",
       " '7',\n",
       " '8',\n",
       " '9',\n",
       " 'A',\n",
       " 'B',\n",
       " 'C',\n",
       " 'D',\n",
       " 'E',\n",
       " 'F',\n",
       " 'G',\n",
       " 'H',\n",
       " 'I',\n",
       " 'J',\n",
       " 'K',\n",
       " 'L',\n",
       " 'M',\n",
       " 'N',\n",
       " 'O',\n",
       " 'P',\n",
       " 'Q',\n",
       " 'R',\n",
       " 'S',\n",
       " 'T',\n",
       " 'U',\n",
       " 'V',\n",
       " 'W',\n",
       " 'X',\n",
       " 'Y',\n",
       " 'Z']"
      ]
     },
     "execution_count": 69,
     "metadata": {},
     "output_type": "execute_result"
    }
   ],
   "source": [
    "s = os.listdir('D:/Datasets/LPI/v3/categorized/')\n",
    "s"
   ]
  },
  {
   "cell_type": "code",
   "execution_count": 63,
   "metadata": {},
   "outputs": [],
   "source": [
    "path_folder = 'D:/Datasets/LPI/v3/character-images - Copy/'\n",
    "for j in s:\n",
    "    path_output_folder = 'D:/Datasets/LPI/v3/categorized/'+j+'/'\n",
    "    for i in range(len(df.character)):\n",
    "        # print(i)\n",
    "        if df.character[i] == j:\n",
    "            os.replace(path_folder+df.image[i], path_output_folder+df.image[i])\n",
    "        # break"
   ]
  },
  {
   "cell_type": "code",
   "execution_count": 65,
   "metadata": {},
   "outputs": [],
   "source": [
    "for i in s:\n",
    "    os.makedirs('D:/Datasets/LPI/v3/categorized/'+i)"
   ]
  },
  {
   "cell_type": "code",
   "execution_count": null,
   "metadata": {},
   "outputs": [],
   "source": []
  }
 ],
 "metadata": {
  "interpreter": {
   "hash": "9ddfba760c93d0781cb88c4db9a31eb68ca4e1616821530f19d735f356a5c9ec"
  },
  "kernelspec": {
   "display_name": "Python 3.8.3 64-bit",
   "language": "python",
   "name": "python3"
  },
  "language_info": {
   "codemirror_mode": {
    "name": "ipython",
    "version": 3
   },
   "file_extension": ".py",
   "mimetype": "text/x-python",
   "name": "python",
   "nbconvert_exporter": "python",
   "pygments_lexer": "ipython3",
   "version": "3.8.3"
  },
  "orig_nbformat": 4
 },
 "nbformat": 4,
 "nbformat_minor": 2
}
