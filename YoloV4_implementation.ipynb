{
  "nbformat": 4,
  "nbformat_minor": 0,
  "metadata": {
    "colab": {
      "name": "YoloV4-implementation.ipynb",
      "provenance": [],
      "authorship_tag": "ABX9TyN7jKAJehR5sLAcVyUJiegr",
      "include_colab_link": true
    },
    "kernelspec": {
      "name": "python3",
      "display_name": "Python 3"
    },
    "language_info": {
      "name": "python"
    }
  },
  "cells": [
    {
      "cell_type": "markdown",
      "metadata": {
        "id": "view-in-github",
        "colab_type": "text"
      },
      "source": [
        "<a href=\"https://colab.research.google.com/github/nickname8888/Quaternions-LPI/blob/neeraj/YoloV4_implementation.ipynb\" target=\"_parent\"><img src=\"https://colab.research.google.com/assets/colab-badge.svg\" alt=\"Open In Colab\"/></a>"
      ]
    },
    {
      "cell_type": "markdown",
      "source": [
        "# YoloV4 implementation \n",
        "\n",
        "Before getting started with this code, you must create an annotated dataset and upload the zipped file to google drive. "
      ],
      "metadata": {
        "id": "Cd03JY3O7kD3"
      }
    },
    {
      "cell_type": "code",
      "execution_count": null,
      "metadata": {
        "id": "922LoyyZ3YzT"
      },
      "outputs": [],
      "source": [
        "# Mounting the Google Drive to colab. \n",
        "\n",
        "from google.colab import drive\n",
        "drive.mount('/content/drive')"
      ]
    },
    {
      "cell_type": "code",
      "source": [
        "import os\n",
        "import cv2\n",
        "import matplotlib.pyplot as plt\n",
        "%matplotlib inline"
      ],
      "metadata": {
        "id": "lE6v_yHF3dJH"
      },
      "execution_count": null,
      "outputs": []
    },
    {
      "cell_type": "code",
      "source": [
        "os.listdir()"
      ],
      "metadata": {
        "id": "T8cHISgs3ffW"
      },
      "execution_count": null,
      "outputs": []
    },
    {
      "cell_type": "code",
      "source": [
        "!unzip <ZIP_FILE_LOCATION> -d <LOCATION_TO_BE_UNZIPPED>"
      ],
      "metadata": {
        "id": "an7JXE1k3g6B"
      },
      "execution_count": null,
      "outputs": []
    },
    {
      "cell_type": "code",
      "source": [
        "# Cloning the darknet repository for yoloV4\n",
        "\n",
        "!git clone https://github.com/AlexeyAB/darknet"
      ],
      "metadata": {
        "id": "cLm-Od2q3um1"
      },
      "execution_count": null,
      "outputs": []
    },
    {
      "cell_type": "code",
      "source": [
        "# Changes to the 'Makefile' to allow training the model. These can also be done manually, but seeing it in a cell is easier. \n",
        "\n",
        "%cd darknet/\n",
        "!sed -i 's/OPENCV=0/OPENCV=1/' Makefile\n",
        "!sed -i 's/GPU=0/GPU=1/' Makefile\n",
        "!sed -i 's/CUDNN=0/CUDNN=1/' Makefile\n",
        "!sed -i 's/CUDNN_HALF=0/CUDNN_HALF=1/' Makefile\n",
        "!sed -i 's/LIBSO=0/LIBSO=1/' Makefile"
      ],
      "metadata": {
        "id": "b62bw3Qb3zJi"
      },
      "execution_count": null,
      "outputs": []
    },
    {
      "cell_type": "code",
      "source": [
        "# Compilation of the model with our Makefile changes. Make sure to run this cell again if the Makefile is updated.\n",
        "\n",
        "!make"
      ],
      "metadata": {
        "id": "xniLAfAH31yo"
      },
      "execution_count": null,
      "outputs": []
    },
    {
      "cell_type": "code",
      "source": [
        "!ls data/"
      ],
      "metadata": {
        "id": "M0TlkiL333UH"
      },
      "execution_count": null,
      "outputs": []
    },
    {
      "cell_type": "code",
      "source": [
        "# Downloading the pre-trained weights for yolov4. These were trained for 80 classes, on the MSCOCO dataset\n",
        "\n",
        "!wget https://github.com/AlexeyAB/darknet/releases/download/darknet_yolo_v3_optimal/yolov4.conv.137"
      ],
      "metadata": {
        "id": "sN5mQw124CvG"
      },
      "execution_count": null,
      "outputs": []
    },
    {
      "cell_type": "code",
      "source": [
        "# Checking access to the function. \n",
        "# If running on colab the output should look like: \n",
        "\n",
        "#  CUDA-version: 11010 (11020), cuDNN: 7.6.5, CUDNN_HALF=1, GPU count: 1  \n",
        "#  CUDNN_HALF=1 \n",
        "#  OpenCV version: 3.2.0\n",
        "#  usage: ./darknet detector [train/test/valid/demo/map] [data] [cfg] [weights (optional)]\n",
        "\n",
        "\n",
        "!./darknet detector"
      ],
      "metadata": {
        "id": "HA_vXk4e4Eus"
      },
      "execution_count": null,
      "outputs": []
    },
    {
      "cell_type": "code",
      "source": [
        "# Training step\n",
        "# detector [train/test/valid/demo/map] [data] [cfg] [weights (optional)]\n",
        "\n",
        "!./darknet detector train data/obj.data cfg/yolov4-custom.cfg /content/drive/My Drive/yolo-4th-Jan-2022/backup/ -dont_show -map"
      ],
      "metadata": {
        "id": "bry5Zfxj4KAr"
      },
      "execution_count": null,
      "outputs": []
    },
    {
      "cell_type": "markdown",
      "source": [
        "# Testing the model"
      ],
      "metadata": {
        "id": "vjcFchv_61xQ"
      }
    },
    {
      "cell_type": "code",
      "source": [
        "# Function to properly read images\n",
        "\n",
        "def imShow(path):\n",
        "  image = cv2.imread(path)\n",
        "  height, width = image.shape[:2]\n",
        "  resized_image = cv2.resize(image,(3*width, 3*height), interpolation = cv2.INTER_CUBIC)\n",
        "  fig = plt.gcf()\n",
        "  fig.set_size_inches(18, 10)\n",
        "  plt.axis(\"off\")\n",
        "  plt.imshow(cv2.cvtColor(resized_image, cv2.COLOR_BGR2RGB))\n",
        "  plt.show()"
      ],
      "metadata": {
        "id": "ydJMOLqP4NbE"
      },
      "execution_count": null,
      "outputs": []
    },
    {
      "cell_type": "code",
      "source": [
        "# Check out the training graph! \n",
        "\n",
        "imShow('chart.png')"
      ],
      "metadata": {
        "id": "Kt8qsCqr4Y54"
      },
      "execution_count": null,
      "outputs": []
    },
    {
      "cell_type": "code",
      "source": [
        "# Get the mAP (mean average precision) values for the given dataset.\n",
        "\n",
        "!./darknet detector map data/obj.data cfg/yolov4-custom.cfg /content/drive/MyDrive/yolo-4th-Jan-2022/backup/yolov4-custom_last.weights -points 0"
      ],
      "metadata": {
        "id": "zoD2K26-4ajC"
      },
      "execution_count": null,
      "outputs": []
    },
    {
      "cell_type": "code",
      "source": [
        "# Updating the config file for testing\n",
        "\n",
        "%cd cfg\n",
        "!sed -i 's/batch=64/batch=1/' yolov4-custom.cfg\n",
        "!sed -i 's/subdivisions=16/subdivisions=1/' yolov4-custom.cfg"
      ],
      "metadata": {
        "id": "UICIDiS24cpb"
      },
      "execution_count": null,
      "outputs": []
    },
    {
      "cell_type": "code",
      "source": [
        "# Testing the model on custom images\n",
        "\n",
        "!./darknet detector test data/obj.data cfg/yolov4-custom.cfg /content/drive/MyDrive/yolo-4th-Jan-2022/backup/yolov4-custom_last.weights /content/drive/MyDrive/yolo-4th-Jan-2022/darknet/data/person.jpg -thresh 0.3\n",
        "\n",
        "imShow('predictions.jpg')"
      ],
      "metadata": {
        "id": "DyXG-In54iqH"
      },
      "execution_count": null,
      "outputs": []
    }
  ]
}